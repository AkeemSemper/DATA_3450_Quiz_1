{
 "cells": [
  {
   "cell_type": "markdown",
   "source": [
    "For this assignment please complete the directed code segments below. \n",
    "\n",
    "Please make sure that when names for functions, files, etc... are specified, that you use the directed value, including capitalization and spaces. The submission system on GitHub looks for specific values, and if yours do not match exactly, your code will fail. The pieces that are graded are labled with #AUTOGRADED in the code segment, outside of providing what is asked for there, you are free to build pretty much any other code that helps you - it may be useful to preview data, print out values, etc...\n",
    "\n",
    "You may call external functions and import external code if you find it useful, except if you are explicitly directed to code something yourself - e.g. if you are asked to calculate the average of a set of numbers, you do not need to write code to loop through each value to add them up and divide, you can use a prebuilt average function. \n",
    "\n",
    "Please change all of the \"Return True\" to return your actual answer. "
   ],
   "metadata": {}
  },
  {
   "cell_type": "code",
   "execution_count": 1,
   "source": [
    "#Import some potentially usefull stuff. \n",
    "#Note - if you need to INSTALL any other packages, add the package name to the requirements.txt file.\n",
    "#I think that the stuff that you NEED should already be installed here. \n",
    "import thinkplot\n",
    "import thinkstats2\n",
    "import sys\n",
    "import pandas as pd\n",
    "import numpy as np"
   ],
   "outputs": [],
   "metadata": {}
  },
  {
   "cell_type": "code",
   "execution_count": null,
   "source": [
    "#Import the file LabourTrainingEvaluationData into a dataframe. \n",
    "#Name the dataframe variable \"df\" - this is a common convention, not a rule. "
   ],
   "outputs": [],
   "metadata": {}
  },
  {
   "cell_type": "code",
   "execution_count": null,
   "source": [
    "#It is probably a good idea to take a little look at your data before you get going.\n"
   ],
   "outputs": [],
   "metadata": {}
  },
  {
   "cell_type": "code",
   "execution_count": null,
   "source": [
    "#AUTOGRADED\n",
    "#Determine the magnitude of the range of the column EARNINGS_1978\n",
    "#Note - do not hardcode the column name. It should be a variable, so it can change.\n",
    "def rangeMag(df_in,columnName):\n",
    "    return True"
   ],
   "outputs": [],
   "metadata": {}
  },
  {
   "cell_type": "code",
   "execution_count": null,
   "source": [
    "#Example, testing the function above\n",
    "#rangeMag(df,\"Earnings_1978\")"
   ],
   "outputs": [],
   "metadata": {}
  },
  {
   "cell_type": "code",
   "execution_count": null,
   "source": [
    "#AUTOGRADED\n",
    "#What percentage of people earned over $19,000 in 1978\n",
    "#Note - do not hardcode the varaibles for the earnings and column name.\n",
    "#Leave them as varaibles, so your function can be used for different details.\n",
    "\n",
    "def earnedAbove(df_in, amount, columnName):\n",
    "    return True "
   ],
   "outputs": [],
   "metadata": {}
  },
  {
   "cell_type": "code",
   "execution_count": null,
   "source": [
    "#earnedAbove(df, 19000, \"Earnings_1978\")"
   ],
   "outputs": [],
   "metadata": {}
  },
  {
   "cell_type": "code",
   "execution_count": 2,
   "source": [
    "##AUTOGRADED\n",
    "#Complete this function to calculate the MEAN of the DIFFERNCE between the 1974 and 1978 Earnings column from the data.\n",
    "def difference_74_78(df_in, column_low, column_high):\n",
    "    return True"
   ],
   "outputs": [],
   "metadata": {}
  },
  {
   "cell_type": "code",
   "execution_count": null,
   "source": [
    "#Example - Running the code from your functions\n",
    "\n",
    "#difference_74_78(df, \"Earnings_1974\", \"Earnings_1978\")"
   ],
   "outputs": [],
   "metadata": {}
  },
  {
   "cell_type": "code",
   "execution_count": 3,
   "source": [
    "#AUTOGRADED\n",
    "#Complete this function to calculate how many of the people are between 18 and 34, inclusive on both ends.\n",
    "#The age, 18, and 34 must be managed by code, so they can be changed. DO NOT hard code the values.\n",
    "def ageCount(df_in, columnName, low_age, high_age):\n",
    "    return True"
   ],
   "outputs": [],
   "metadata": {}
  },
  {
   "cell_type": "code",
   "execution_count": null,
   "source": [
    "#Example - Running the above code\n",
    "\n",
    "#ageCount(df,\"Age\", 18,34)"
   ],
   "outputs": [],
   "metadata": {}
  },
  {
   "cell_type": "code",
   "execution_count": null,
   "source": [
    "#AUTOGRADED\n",
    "#This one is a bit more complex and involved. \n",
    "#Consider the values of RACE, HISP, and MARITALSTATUS - calculate the MEDIAN 1978 income for each potential cohort of a combination of these values.\n",
    "#E.G. Obama is black, not hispanic, married - hw should be grouped with everyone else that has the same characteristics in his cohort.\n",
    "#Connor McDavid is not black, not hispanic, not married. There will be a multitude of groups.\n",
    "#Return the LOWEST median 1978 salary among all the cohorts. Return the number.\n",
    "#If the cohort deal doesn't make sense to you, please ask and I'll explain it. \n",
    "#\n",
    "#You CAN hardcode the column names needed in this, for simplicity. Think about what would change to make it variable - able to be used on any selection of column names. \n",
    "\n",
    "def cohort(df_in, cohort1, cohort2, cohort3, earningsColumn):\n",
    "    return True"
   ],
   "outputs": [],
   "metadata": {}
  },
  {
   "cell_type": "code",
   "execution_count": null,
   "source": [
    "#cohort(df, \"Race\", \"Hisp\", \"MaritalStatus\", \"Earnings_1978\")"
   ],
   "outputs": [],
   "metadata": {}
  }
 ],
 "metadata": {
  "orig_nbformat": 4,
  "language_info": {
   "name": "python",
   "version": "3.8.3",
   "mimetype": "text/x-python",
   "codemirror_mode": {
    "name": "ipython",
    "version": 3
   },
   "pygments_lexer": "ipython3",
   "nbconvert_exporter": "python",
   "file_extension": ".py"
  },
  "kernelspec": {
   "name": "python3",
   "display_name": "Python 3.8.3 64-bit ('base': conda)"
  },
  "interpreter": {
   "hash": "f7dd21bfe8933d21e2c58a22bc74eff6eccb2180dc6c2e2695cf2d3822934f32"
  }
 },
 "nbformat": 4,
 "nbformat_minor": 2
}