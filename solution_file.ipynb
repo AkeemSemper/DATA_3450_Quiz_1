{
 "cells": [
  {
   "cell_type": "markdown",
   "source": [
    "For this assignment please complete the directed code segments below. \n",
    "\n",
    "Please make sure that when names for functions, files, etc... are specified, that you use the directed value, including capitalization and spaces. The submission system on GitHub looks for specific values, and if yours do not match, your code will fail. The pieces that are graded are labled with #AUTOGRADED in the code segment, outside of providing what is asked for there, you are free to build pretty much any other code that helps you - it may be useful to preview data, print out values, etc...\n",
    "\n",
    "You may call external functions and import external code if you find it useful, except if you are explicitly directed to code something yourself - e.g. if you are asked to calculate the average of a set of numbers, you do not need to write code to loop through each value to add them up and divide, you can use a prebuilt average function. \n",
    "\n",
    "You can add any other stuff you need or that you find helpful - code blocks, exploration, charts, etc... as long as the function returns the right answer. \n",
    "\n",
    "There are multiple ways to do all of this stuff. Focus first on what the goal is, then try to break it into logical steps, then try to translate each of those steps into code. If you have things broken down into pieces, each step can be looked up in old code, looked up in the book, or just Googled to find a similar example you can adapt. Getting a correct result is the goal - if you can build code that always returns the correct result, that's good (it might not be the most effetive way to d things, but that is secondary)\n",
    "\n",
    "Please change all of the \"Return 0\" to return your actual answer. \n",
    "\n",
    "Note: In the solution checker I set it to automatically allow for 5% tolerance - so thing like slight varaiations in rounding, decimal places, etc... shouldn't cause an issue. The difference one uses an absolute value in checking, so the order of the subtraction won't matter. "
   ],
   "metadata": {}
  },
  {
   "cell_type": "code",
   "execution_count": 1,
   "source": [
    "#Import some potentially usefull stuff. \n",
    "#Note - if you need to INSTALL any other packages, add the package name to the requirements.txt file.\n",
    "#I think that the stuff that you NEED should already be installed here. \n",
    "import thinkplot\n",
    "import thinkstats2\n",
    "import sys\n",
    "import pandas as pd\n",
    "import numpy as np"
   ],
   "outputs": [],
   "metadata": {}
  },
  {
   "cell_type": "code",
   "execution_count": null,
   "source": [
    "#Import the file LabourTrainingEvaluationData.csv into a dataframe. \n"
   ],
   "outputs": [],
   "metadata": {}
  },
  {
   "cell_type": "code",
   "execution_count": null,
   "source": [
    "#It is probably a good idea to take a little look at your data before you get going.\n",
    "#maybe throw in some charts, tables, previews..... before solving the problems below. "
   ],
   "outputs": [],
   "metadata": {}
  },
  {
   "cell_type": "code",
   "execution_count": null,
   "source": [
    "#AUTOGRADED\n",
    "#Generic definition: Determine the range of the specified column in the supplied dataframe.\n",
    "#Specific, example definition: Determine the magnitude (i.e. the size, one number) of the range of the column EARNINGS_1978\n",
    "#Note - do not hardcode the column name. It should be a variable, so it can change.\n",
    "def rangeMag(df_in,columnName):\n",
    "    return 0"
   ],
   "outputs": [],
   "metadata": {}
  },
  {
   "cell_type": "code",
   "execution_count": null,
   "source": [
    "#Example, testing the function above\n",
    "#rangeMag(df,\"Earnings_1978\")"
   ],
   "outputs": [],
   "metadata": {}
  },
  {
   "cell_type": "code",
   "execution_count": null,
   "source": [
    "#AUTOGRADED\n",
    "#Generic: What percentage of results are over the specified value, in the specified df column.\n",
    "#Example: What percentage of people earned over $19,000 in 1978\n",
    "#Note - do not hardcode the varaibles for the earnings and column name.\n",
    "#Leave them as varaibles, so your function can be used for different details.\n",
    "\n",
    "def earnedAbove(df_in, amount, columnName):\n",
    "    return 0 "
   ],
   "outputs": [],
   "metadata": {}
  },
  {
   "cell_type": "code",
   "execution_count": null,
   "source": [
    "#earnedAbove(df, 19000, \"Earnings_1978\")"
   ],
   "outputs": [],
   "metadata": {}
  },
  {
   "cell_type": "code",
   "execution_count": 2,
   "source": [
    "##AUTOGRADED\n",
    "#Complete this function to calculate the MEAN of the DIFFERNCE between the 1974 and 1978 Earnings column from the data.\n",
    "#Tip: difference first, then average the diffs. \n",
    "def difference_74_78(df_in, column_low, column_high):\n",
    "    return 0"
   ],
   "outputs": [],
   "metadata": {}
  },
  {
   "cell_type": "code",
   "execution_count": null,
   "source": [
    "#Example - Running the code from your functions\n",
    "\n",
    "#difference_74_78(df, \"Earnings_1974\", \"Earnings_1978\")"
   ],
   "outputs": [],
   "metadata": {}
  },
  {
   "cell_type": "code",
   "execution_count": 3,
   "source": [
    "#AUTOGRADED\n",
    "#Generic: How many values in the specified column are within the supplied range. Inclusive on both ends.\n",
    "#Example: How many of the people are between 18 and 34, inclusive on both ends.\n",
    "#The age, 18, and 34 must be managed by code, so they can be changed. DO NOT hard code the values.\n",
    "def ageCount(df_in, columnName, low_age, high_age):\n",
    "    return 0"
   ],
   "outputs": [],
   "metadata": {}
  },
  {
   "cell_type": "code",
   "execution_count": null,
   "source": [
    "#Example - Running the above code\n",
    "\n",
    "#ageCount(df,\"Age\", 18,34)"
   ],
   "outputs": [],
   "metadata": {}
  },
  {
   "cell_type": "code",
   "execution_count": null,
   "source": [
    "#AUTOGRADED\n",
    "#This one is a bit more complex and involved. \n",
    "#Consider the values of RACE, HISP, and MARITALSTATUS - calculate the MEDIAN 1978 income for each potential cohort of a combination of these values.\n",
    "#E.G. Obama is black, not hispanic, married - hw should be grouped with everyone else that has the same characteristics in his cohort.\n",
    "#Connor McDavid is not black, not hispanic, not married. There will be a multitude of groups.\n",
    "#Return the LOWEST median 1978 salary among all the cohorts. Return the number.\n",
    "#If the cohort deal doesn't make sense to you, please ask and I'll explain it. \n",
    "\n",
    "#This one is much more difficult than the others, it is not worth much in terms of grades.\n",
    "#Break it into small steps, and try to tackle them one at a time. \n",
    "#Trying to solve it all on one go will be very confusing. \n",
    "\n",
    "def cohort(df_in, cohort1, cohort2, cohort3, earningsColumn):\n",
    "    return 0"
   ],
   "outputs": [],
   "metadata": {}
  },
  {
   "cell_type": "code",
   "execution_count": null,
   "source": [
    "#cohort(df, \"Race\", \"Hisp\", \"MaritalStatus\", \"Earnings_1978\")"
   ],
   "outputs": [],
   "metadata": {}
  }
 ],
 "metadata": {
  "orig_nbformat": 4,
  "language_info": {
   "name": "python",
   "version": "3.8.3",
   "mimetype": "text/x-python",
   "codemirror_mode": {
    "name": "ipython",
    "version": 3
   },
   "pygments_lexer": "ipython3",
   "nbconvert_exporter": "python",
   "file_extension": ".py"
  },
  "kernelspec": {
   "name": "python3",
   "display_name": "Python 3.8.3 64-bit ('base': conda)"
  },
  "interpreter": {
   "hash": "f7dd21bfe8933d21e2c58a22bc74eff6eccb2180dc6c2e2695cf2d3822934f32"
  }
 },
 "nbformat": 4,
 "nbformat_minor": 2
}